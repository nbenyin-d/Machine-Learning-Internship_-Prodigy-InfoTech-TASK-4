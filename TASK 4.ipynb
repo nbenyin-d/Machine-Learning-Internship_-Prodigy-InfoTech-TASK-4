{
 "cells": [
  {
   "cell_type": "markdown",
   "id": "812bfff6-3a26-4eae-98b8-1d44b366e837",
   "metadata": {},
   "source": [
    "## Essel-Biney Nana Benyin E.N\n",
    "---"
   ]
  },
  {
   "cell_type": "markdown",
   "id": "3228997e-86cb-49c2-9b2c-0b08d142b356",
   "metadata": {},
   "source": [
    "# TASK 4\n",
    "---"
   ]
  },
  {
   "cell_type": "markdown",
   "id": "c09d40d6-ded6-4d80-9c6c-eb7264e87acb",
   "metadata": {},
   "source": [
    "## Importing Libraries :"
   ]
  },
  {
   "cell_type": "code",
   "execution_count": 108,
   "id": "93e89bc4-07dc-42d2-a24f-ffeea131646a",
   "metadata": {
    "scrolled": true
   },
   "outputs": [],
   "source": [
    "import os\n",
    "import cv2\n",
    "import numpy as np\n",
    "from tqdm import tqdm\n",
    "from sklearn.model_selection import train_test_split\n",
    "from sklearn.ensemble import RandomForestClassifier\n",
    "from sklearn.metrics import accuracy_score"
   ]
  },
  {
   "cell_type": "markdown",
   "id": "51ce40bc-c79c-4546-b66a-c95c8e41b570",
   "metadata": {},
   "source": [
    "## \n",
    "## Loading and Preparing Data :"
   ]
  },
  {
   "cell_type": "code",
   "execution_count": 19,
   "id": "7b8662e8-2ec1-443f-84e3-122206c93e39",
   "metadata": {},
   "outputs": [
    {
     "data": {
      "text/plain": [
       "['C:\\\\Users\\\\nanab\\\\Desktop\\\\CyberWare\\\\ML\\\\Prodigy InfoTech\\\\Task 4 ML\\\\leapGestRecog\\\\00',\n",
       " 'C:\\\\Users\\\\nanab\\\\Desktop\\\\CyberWare\\\\ML\\\\Prodigy InfoTech\\\\Task 4 ML\\\\leapGestRecog\\\\01',\n",
       " 'C:\\\\Users\\\\nanab\\\\Desktop\\\\CyberWare\\\\ML\\\\Prodigy InfoTech\\\\Task 4 ML\\\\leapGestRecog\\\\02',\n",
       " 'C:\\\\Users\\\\nanab\\\\Desktop\\\\CyberWare\\\\ML\\\\Prodigy InfoTech\\\\Task 4 ML\\\\leapGestRecog\\\\03',\n",
       " 'C:\\\\Users\\\\nanab\\\\Desktop\\\\CyberWare\\\\ML\\\\Prodigy InfoTech\\\\Task 4 ML\\\\leapGestRecog\\\\04',\n",
       " 'C:\\\\Users\\\\nanab\\\\Desktop\\\\CyberWare\\\\ML\\\\Prodigy InfoTech\\\\Task 4 ML\\\\leapGestRecog\\\\05',\n",
       " 'C:\\\\Users\\\\nanab\\\\Desktop\\\\CyberWare\\\\ML\\\\Prodigy InfoTech\\\\Task 4 ML\\\\leapGestRecog\\\\06',\n",
       " 'C:\\\\Users\\\\nanab\\\\Desktop\\\\CyberWare\\\\ML\\\\Prodigy InfoTech\\\\Task 4 ML\\\\leapGestRecog\\\\07',\n",
       " 'C:\\\\Users\\\\nanab\\\\Desktop\\\\CyberWare\\\\ML\\\\Prodigy InfoTech\\\\Task 4 ML\\\\leapGestRecog\\\\08',\n",
       " 'C:\\\\Users\\\\nanab\\\\Desktop\\\\CyberWare\\\\ML\\\\Prodigy InfoTech\\\\Task 4 ML\\\\leapGestRecog\\\\09']"
      ]
     },
     "execution_count": 19,
     "metadata": {},
     "output_type": "execute_result"
    }
   ],
   "source": [
    "folders_names = []\n",
    "\n",
    "for i in range(10):\n",
    "    folder = r\"C:\\Users\\nanab\\Desktop\\CyberWare\\ML\\Prodigy InfoTech\\Task 4 ML\\leapGestRecog\\0{}\".format(i)\n",
    "    folders_names.append(folder)\n",
    "\n",
    "files_names = ['01_palm', '02_l', '03_fist', '04_fist_moved', '05_thumb', '06_index', '07_ok', '08_palm_moved', '09_c', '10_down']\n",
    "folders_names\n",
    "        "
   ]
  },
  {
   "cell_type": "code",
   "execution_count": 92,
   "id": "51fb94f5-7a05-4f27-b6d0-d151e7654dcc",
   "metadata": {},
   "outputs": [
    {
     "name": "stderr",
     "output_type": "stream",
     "text": [
      "100%|██████████| 200/200 [00:02<00:00, 68.45it/s]\n",
      "100%|██████████| 200/200 [00:03<00:00, 62.08it/s]\n",
      "100%|██████████| 200/200 [00:03<00:00, 62.42it/s]\n",
      "100%|██████████| 200/200 [00:03<00:00, 51.36it/s]\n",
      "100%|██████████| 200/200 [00:03<00:00, 64.52it/s]\n",
      "100%|██████████| 200/200 [00:02<00:00, 81.92it/s]\n",
      "100%|██████████| 200/200 [00:02<00:00, 78.08it/s]\n",
      "100%|██████████| 200/200 [00:02<00:00, 73.97it/s]\n",
      "100%|██████████| 200/200 [00:03<00:00, 61.02it/s]\n",
      "100%|██████████| 200/200 [00:02<00:00, 82.88it/s]\n",
      "100%|██████████| 200/200 [00:01<00:00, 173.97it/s]\n",
      "100%|██████████| 200/200 [00:02<00:00, 84.92it/s]\n",
      "100%|██████████| 200/200 [00:02<00:00, 86.04it/s]\n",
      "100%|██████████| 200/200 [00:02<00:00, 78.81it/s]\n",
      "100%|██████████| 200/200 [00:02<00:00, 69.90it/s]\n",
      "100%|██████████| 200/200 [00:03<00:00, 66.51it/s]\n",
      "100%|██████████| 200/200 [00:02<00:00, 77.82it/s]\n",
      "100%|██████████| 200/200 [00:02<00:00, 79.06it/s]\n",
      "100%|██████████| 200/200 [00:02<00:00, 76.22it/s]\n",
      "100%|██████████| 200/200 [00:02<00:00, 78.07it/s]\n",
      "100%|██████████| 200/200 [00:02<00:00, 70.21it/s]\n",
      "100%|██████████| 200/200 [00:02<00:00, 71.20it/s]\n",
      "100%|██████████| 200/200 [00:02<00:00, 83.34it/s]\n",
      "100%|██████████| 200/200 [00:02<00:00, 76.02it/s]\n",
      "100%|██████████| 200/200 [00:02<00:00, 82.89it/s]\n",
      "100%|██████████| 200/200 [00:02<00:00, 86.61it/s]\n",
      "100%|██████████| 200/200 [00:02<00:00, 72.95it/s]\n",
      "100%|██████████| 200/200 [00:03<00:00, 60.58it/s]\n",
      "100%|██████████| 200/200 [00:02<00:00, 76.10it/s]\n",
      "100%|██████████| 200/200 [00:02<00:00, 72.56it/s]\n",
      "100%|██████████| 200/200 [00:02<00:00, 78.49it/s]\n",
      "100%|██████████| 200/200 [00:02<00:00, 84.79it/s]\n",
      "100%|██████████| 200/200 [00:03<00:00, 64.78it/s]\n",
      "100%|██████████| 200/200 [00:03<00:00, 66.65it/s]\n",
      "100%|██████████| 200/200 [00:02<00:00, 81.51it/s]\n",
      "100%|██████████| 200/200 [00:02<00:00, 85.64it/s]\n",
      "100%|██████████| 200/200 [00:02<00:00, 83.92it/s]\n",
      "100%|██████████| 200/200 [00:02<00:00, 83.91it/s]\n",
      "100%|██████████| 200/200 [00:03<00:00, 61.43it/s]\n",
      "100%|██████████| 200/200 [00:02<00:00, 68.14it/s]\n",
      "100%|██████████| 200/200 [00:02<00:00, 70.45it/s]\n",
      "100%|██████████| 200/200 [00:02<00:00, 80.43it/s]\n",
      "100%|██████████| 200/200 [00:02<00:00, 83.71it/s]\n",
      "100%|██████████| 200/200 [00:02<00:00, 81.94it/s]\n",
      "100%|██████████| 200/200 [00:03<00:00, 63.01it/s]\n",
      "100%|██████████| 200/200 [00:02<00:00, 75.11it/s]\n",
      "100%|██████████| 200/200 [00:02<00:00, 82.57it/s]\n",
      "100%|██████████| 200/200 [00:02<00:00, 83.71it/s]\n",
      "100%|██████████| 200/200 [00:02<00:00, 80.96it/s]\n",
      "100%|██████████| 200/200 [00:02<00:00, 80.92it/s]\n",
      "100%|██████████| 200/200 [00:02<00:00, 67.83it/s]\n",
      "100%|██████████| 200/200 [00:02<00:00, 69.30it/s]\n",
      "100%|██████████| 200/200 [00:02<00:00, 80.96it/s]\n",
      "100%|██████████| 200/200 [00:02<00:00, 75.25it/s]\n",
      "100%|██████████| 200/200 [00:02<00:00, 67.27it/s]\n",
      "100%|██████████| 200/200 [00:02<00:00, 70.11it/s]\n",
      "100%|██████████| 200/200 [00:03<00:00, 59.58it/s]\n",
      "100%|██████████| 200/200 [00:02<00:00, 77.43it/s]\n",
      "100%|██████████| 200/200 [00:02<00:00, 80.92it/s]\n",
      "100%|██████████| 200/200 [00:02<00:00, 85.43it/s]\n",
      "100%|██████████| 200/200 [00:02<00:00, 78.97it/s]\n",
      "100%|██████████| 200/200 [00:02<00:00, 74.91it/s]\n",
      "100%|██████████| 200/200 [00:03<00:00, 51.40it/s]\n",
      "100%|██████████| 200/200 [00:02<00:00, 74.08it/s]\n",
      "100%|██████████| 200/200 [00:02<00:00, 85.16it/s]\n",
      "100%|██████████| 200/200 [00:02<00:00, 83.73it/s]\n",
      "100%|██████████| 200/200 [00:02<00:00, 81.62it/s]\n",
      "100%|██████████| 200/200 [00:01<00:00, 101.89it/s]\n",
      "100%|██████████| 200/200 [00:01<00:00, 157.27it/s]\n",
      "100%|██████████| 200/200 [00:01<00:00, 162.92it/s]\n",
      "100%|██████████| 200/200 [00:01<00:00, 166.84it/s]\n",
      "100%|██████████| 200/200 [00:00<00:00, 250.74it/s]\n",
      "100%|██████████| 200/200 [00:00<00:00, 296.78it/s]\n",
      "100%|██████████| 200/200 [00:00<00:00, 262.25it/s]\n",
      "100%|██████████| 200/200 [00:00<00:00, 265.10it/s]\n",
      "100%|██████████| 200/200 [00:00<00:00, 286.31it/s]\n",
      "100%|██████████| 200/200 [00:00<00:00, 291.08it/s]\n",
      "100%|██████████| 200/200 [00:00<00:00, 303.63it/s]\n",
      "100%|██████████| 200/200 [00:00<00:00, 307.57it/s]\n",
      "100%|██████████| 200/200 [00:00<00:00, 307.87it/s]\n",
      "100%|██████████| 200/200 [00:00<00:00, 276.68it/s]\n",
      "100%|██████████| 200/200 [00:00<00:00, 285.19it/s]\n",
      "100%|██████████| 200/200 [00:00<00:00, 272.54it/s]\n",
      "100%|██████████| 200/200 [00:00<00:00, 246.68it/s]\n",
      "100%|██████████| 200/200 [00:00<00:00, 227.74it/s]\n",
      "100%|██████████| 200/200 [00:01<00:00, 194.14it/s]\n",
      "100%|██████████| 200/200 [00:00<00:00, 272.26it/s]\n",
      "100%|██████████| 200/200 [00:00<00:00, 233.30it/s]\n",
      "100%|██████████| 200/200 [00:03<00:00, 55.63it/s]\n",
      "100%|██████████| 200/200 [00:02<00:00, 83.24it/s] \n",
      "100%|██████████| 200/200 [00:02<00:00, 83.82it/s]\n",
      "100%|██████████| 200/200 [00:02<00:00, 85.24it/s]\n",
      "100%|██████████| 200/200 [00:02<00:00, 75.20it/s]\n",
      "100%|██████████| 200/200 [00:03<00:00, 65.08it/s]\n",
      "100%|██████████| 200/200 [00:03<00:00, 63.31it/s]\n",
      "100%|██████████| 200/200 [00:02<00:00, 79.51it/s]\n",
      "100%|██████████| 200/200 [00:02<00:00, 74.76it/s]\n",
      "100%|██████████| 200/200 [00:02<00:00, 79.82it/s]\n",
      "100%|██████████| 200/200 [00:02<00:00, 67.11it/s]\n",
      "100%|██████████| 200/200 [00:03<00:00, 62.58it/s]\n"
     ]
    }
   ],
   "source": [
    "training_data=[]\n",
    "\n",
    "for folder in folders_names:\n",
    "        Class_num=folder[-1]\n",
    "    \n",
    "        for file in files_names:\n",
    "            path = os.path.join(folder, file)\n",
    "            for img in tqdm(os.listdir(path)):\n",
    "                img_array = cv2.imread(os.path.join(path, img), cv2.IMREAD_GRAYSCALE)\n",
    "                \n",
    "                training_data.append([img_array.flatten(),int(Class_num)])"
   ]
  },
  {
   "cell_type": "code",
   "execution_count": 96,
   "id": "23b7051d-4dd0-4480-be55-18ccb36de8f8",
   "metadata": {},
   "outputs": [],
   "source": [
    "image_data=[]\n",
    "labels=[]\n",
    "\n",
    "for feature,label in training_data:\n",
    "    image_data.append(feature)\n",
    "    labels.append(label)"
   ]
  },
  {
   "cell_type": "markdown",
   "id": "3679a7db-8884-42eb-a0de-60278dc303ae",
   "metadata": {},
   "source": [
    "##\n",
    "## Converting lists to numpy arrays :"
   ]
  },
  {
   "cell_type": "code",
   "execution_count": 98,
   "id": "a7ed9052-7097-483c-affa-e0a1daaef528",
   "metadata": {},
   "outputs": [],
   "source": [
    "image_data = np.array(image_data)\n",
    "labels = np.array(labels)"
   ]
  },
  {
   "cell_type": "code",
   "execution_count": 100,
   "id": "10ad9efb-3f32-40f0-a4ac-eed74f79a144",
   "metadata": {},
   "outputs": [
    {
     "data": {
      "text/plain": [
       "array([0, 0, 0, ..., 9, 9, 9])"
      ]
     },
     "execution_count": 100,
     "metadata": {},
     "output_type": "execute_result"
    }
   ],
   "source": [
    "labels"
   ]
  },
  {
   "cell_type": "code",
   "execution_count": 102,
   "id": "a22c79ae-b275-4fad-9e0d-ac1309f239c4",
   "metadata": {},
   "outputs": [
    {
     "data": {
      "text/plain": [
       "array([[ 6,  5,  4, ..., 25, 12, 20],\n",
       "       [ 4,  5,  4, ..., 25, 12, 16],\n",
       "       [ 4,  5,  4, ..., 25, 12, 16],\n",
       "       ...,\n",
       "       [ 3,  6,  5, ..., 25, 12, 16],\n",
       "       [ 4,  3,  4, ..., 25, 12, 16],\n",
       "       [ 5,  5,  5, ..., 25, 12, 16]], dtype=uint8)"
      ]
     },
     "execution_count": 102,
     "metadata": {},
     "output_type": "execute_result"
    }
   ],
   "source": [
    "image_data"
   ]
  },
  {
   "cell_type": "markdown",
   "id": "3e574d04-5755-4151-9e15-1bb683459a4f",
   "metadata": {},
   "source": [
    "##\n",
    "## Splitting into training and testing data : "
   ]
  },
  {
   "cell_type": "code",
   "execution_count": 104,
   "id": "9e8e17aa-7e57-401b-9b0e-a49f9ae84466",
   "metadata": {},
   "outputs": [],
   "source": [
    "X_train, X_test, y_train, y_test = train_test_split(image_data, labels, test_size=0.2, random_state=42, shuffle=True)"
   ]
  },
  {
   "cell_type": "markdown",
   "id": "727bc119-2558-4c06-bca0-402aca454e53",
   "metadata": {},
   "source": [
    "### \n",
    "## Training the Random Forest Classifier :"
   ]
  },
  {
   "cell_type": "code",
   "execution_count": 106,
   "id": "af74bd1f-3770-474b-a8e0-2dd018083960",
   "metadata": {},
   "outputs": [
    {
     "data": {
      "text/html": [
       "<style>#sk-container-id-1 {color: black;}#sk-container-id-1 pre{padding: 0;}#sk-container-id-1 div.sk-toggleable {background-color: white;}#sk-container-id-1 label.sk-toggleable__label {cursor: pointer;display: block;width: 100%;margin-bottom: 0;padding: 0.3em;box-sizing: border-box;text-align: center;}#sk-container-id-1 label.sk-toggleable__label-arrow:before {content: \"▸\";float: left;margin-right: 0.25em;color: #696969;}#sk-container-id-1 label.sk-toggleable__label-arrow:hover:before {color: black;}#sk-container-id-1 div.sk-estimator:hover label.sk-toggleable__label-arrow:before {color: black;}#sk-container-id-1 div.sk-toggleable__content {max-height: 0;max-width: 0;overflow: hidden;text-align: left;background-color: #f0f8ff;}#sk-container-id-1 div.sk-toggleable__content pre {margin: 0.2em;color: black;border-radius: 0.25em;background-color: #f0f8ff;}#sk-container-id-1 input.sk-toggleable__control:checked~div.sk-toggleable__content {max-height: 200px;max-width: 100%;overflow: auto;}#sk-container-id-1 input.sk-toggleable__control:checked~label.sk-toggleable__label-arrow:before {content: \"▾\";}#sk-container-id-1 div.sk-estimator input.sk-toggleable__control:checked~label.sk-toggleable__label {background-color: #d4ebff;}#sk-container-id-1 div.sk-label input.sk-toggleable__control:checked~label.sk-toggleable__label {background-color: #d4ebff;}#sk-container-id-1 input.sk-hidden--visually {border: 0;clip: rect(1px 1px 1px 1px);clip: rect(1px, 1px, 1px, 1px);height: 1px;margin: -1px;overflow: hidden;padding: 0;position: absolute;width: 1px;}#sk-container-id-1 div.sk-estimator {font-family: monospace;background-color: #f0f8ff;border: 1px dotted black;border-radius: 0.25em;box-sizing: border-box;margin-bottom: 0.5em;}#sk-container-id-1 div.sk-estimator:hover {background-color: #d4ebff;}#sk-container-id-1 div.sk-parallel-item::after {content: \"\";width: 100%;border-bottom: 1px solid gray;flex-grow: 1;}#sk-container-id-1 div.sk-label:hover label.sk-toggleable__label {background-color: #d4ebff;}#sk-container-id-1 div.sk-serial::before {content: \"\";position: absolute;border-left: 1px solid gray;box-sizing: border-box;top: 0;bottom: 0;left: 50%;z-index: 0;}#sk-container-id-1 div.sk-serial {display: flex;flex-direction: column;align-items: center;background-color: white;padding-right: 0.2em;padding-left: 0.2em;position: relative;}#sk-container-id-1 div.sk-item {position: relative;z-index: 1;}#sk-container-id-1 div.sk-parallel {display: flex;align-items: stretch;justify-content: center;background-color: white;position: relative;}#sk-container-id-1 div.sk-item::before, #sk-container-id-1 div.sk-parallel-item::before {content: \"\";position: absolute;border-left: 1px solid gray;box-sizing: border-box;top: 0;bottom: 0;left: 50%;z-index: -1;}#sk-container-id-1 div.sk-parallel-item {display: flex;flex-direction: column;z-index: 1;position: relative;background-color: white;}#sk-container-id-1 div.sk-parallel-item:first-child::after {align-self: flex-end;width: 50%;}#sk-container-id-1 div.sk-parallel-item:last-child::after {align-self: flex-start;width: 50%;}#sk-container-id-1 div.sk-parallel-item:only-child::after {width: 0;}#sk-container-id-1 div.sk-dashed-wrapped {border: 1px dashed gray;margin: 0 0.4em 0.5em 0.4em;box-sizing: border-box;padding-bottom: 0.4em;background-color: white;}#sk-container-id-1 div.sk-label label {font-family: monospace;font-weight: bold;display: inline-block;line-height: 1.2em;}#sk-container-id-1 div.sk-label-container {text-align: center;}#sk-container-id-1 div.sk-container {/* jupyter's `normalize.less` sets `[hidden] { display: none; }` but bootstrap.min.css set `[hidden] { display: none !important; }` so we also need the `!important` here to be able to override the default hidden behavior on the sphinx rendered scikit-learn.org. See: https://github.com/scikit-learn/scikit-learn/issues/21755 */display: inline-block !important;position: relative;}#sk-container-id-1 div.sk-text-repr-fallback {display: none;}</style><div id=\"sk-container-id-1\" class=\"sk-top-container\"><div class=\"sk-text-repr-fallback\"><pre>RandomForestClassifier()</pre><b>In a Jupyter environment, please rerun this cell to show the HTML representation or trust the notebook. <br />On GitHub, the HTML representation is unable to render, please try loading this page with nbviewer.org.</b></div><div class=\"sk-container\" hidden><div class=\"sk-item\"><div class=\"sk-estimator sk-toggleable\"><input class=\"sk-toggleable__control sk-hidden--visually\" id=\"sk-estimator-id-1\" type=\"checkbox\" checked><label for=\"sk-estimator-id-1\" class=\"sk-toggleable__label sk-toggleable__label-arrow\">RandomForestClassifier</label><div class=\"sk-toggleable__content\"><pre>RandomForestClassifier()</pre></div></div></div></div></div>"
      ],
      "text/plain": [
       "RandomForestClassifier()"
      ]
     },
     "execution_count": 106,
     "metadata": {},
     "output_type": "execute_result"
    }
   ],
   "source": [
    "rf_model = RandomForestClassifier()\n",
    "\n",
    "rf_model.fit(X_train, y_train)\n"
   ]
  },
  {
   "cell_type": "markdown",
   "id": "b30dd31d-adaf-4741-b358-8f5f5148d1c6",
   "metadata": {},
   "source": [
    "### MAKING PREDICTIONS"
   ]
  },
  {
   "cell_type": "code",
   "execution_count": 114,
   "id": "ffedcbf4-810b-45e9-abae-59e5b2493c5c",
   "metadata": {},
   "outputs": [],
   "source": [
    "y_predict = rf_model.predict(X_test)"
   ]
  },
  {
   "cell_type": "markdown",
   "id": "6344fb24-da40-4a53-a867-d944a3fcee3b",
   "metadata": {},
   "source": [
    "##\n",
    "## Model Evaluation :"
   ]
  },
  {
   "cell_type": "code",
   "execution_count": 122,
   "id": "4e4191ab-d0f0-4b83-bf9b-1c1cde1050ac",
   "metadata": {},
   "outputs": [
    {
     "name": "stdout",
     "output_type": "stream",
     "text": [
      "Accuracy: 98.78%\n",
      "98.775% of samples were classified correctly !\n"
     ]
    }
   ],
   "source": [
    "accuracy = accuracy_score(y_predict, y_test)\n",
    "print(f\"Accuracy: {accuracy * 100:.2f}%\")\n",
    "\n",
    "print('{}% of samples were classified correctly !'.format(score * 100))\n"
   ]
  }
 ],
 "metadata": {
  "kernelspec": {
   "display_name": "Python 3 (ipykernel)",
   "language": "python",
   "name": "python3"
  },
  "language_info": {
   "codemirror_mode": {
    "name": "ipython",
    "version": 3
   },
   "file_extension": ".py",
   "mimetype": "text/x-python",
   "name": "python",
   "nbconvert_exporter": "python",
   "pygments_lexer": "ipython3",
   "version": "3.11.5"
  }
 },
 "nbformat": 4,
 "nbformat_minor": 5
}
